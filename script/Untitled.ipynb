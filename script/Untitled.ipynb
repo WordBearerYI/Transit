{
 "cells": [
  {
   "cell_type": "code",
   "execution_count": 3,
   "metadata": {},
   "outputs": [
    {
     "name": "stdout",
     "output_type": "stream",
     "text": [
      "AVD_Home_011_1_traj1, ate: 51.366516461495664\n",
      "\u001b[1;31mGLFW Error: GLX: No GLXFBConfigs returned\n",
      "\u001b[0;m\u001b[1;31mGLFW Error: GLX: Failed to find a suitable GLXFBConfig\n",
      "\u001b[0;m\u001b[1;31mFailed to create window\n",
      "\u001b[0;m\u001b[1;33m[DrawGeometries] Failed creating OpenGL window.\n",
      "\u001b[0;m"
     ]
    }
   ],
   "source": [
    "!./run_eval_vis_AVD.sh"
   ]
  },
  {
   "cell_type": "code",
   "execution_count": 32,
   "metadata": {},
   "outputs": [
    {
     "name": "stdout",
     "output_type": "stream",
     "text": [
      "latent size single: 64\n",
      "latent size final: 64\n",
      "loading dataset\n",
      "16\n",
      "pccppcpc1123 (16, 27, 48, 3)\n",
      "creating model\n",
      "start training\n",
      "model saved to ../results/AVD/AVD_Home_011_1_traj1/model_best.pth\n",
      "16\n",
      "AVD_Home_011_1_traj1, ate: 1098.3893503837526\n",
      "[2/3000], training loss: 0.5935\n",
      "model saved to ../results/AVD/AVD_Home_011_1_traj1/model_best.pth\n",
      "16\n",
      "AVD_Home_011_1_traj1, ate: 2256.696328348437\n",
      "model saved to ../results/AVD/AVD_Home_011_1_traj1/model_best.pth\n",
      "16\n",
      "AVD_Home_011_1_traj1, ate: 1477.0757880085614\n",
      "[4/3000], training loss: 0.2860\n",
      "model saved to ../results/AVD/AVD_Home_011_1_traj1/model_best.pth\n",
      "16\n",
      "AVD_Home_011_1_traj1, ate: 1062.147301290418\n",
      "model saved to ../results/AVD/AVD_Home_011_1_traj1/model_best.pth\n",
      "16\n",
      "AVD_Home_011_1_traj1, ate: 706.5688569934591\n",
      "[6/3000], training loss: 0.2082\n",
      "model saved to ../results/AVD/AVD_Home_011_1_traj1/model_best.pth\n",
      "16\n",
      "AVD_Home_011_1_traj1, ate: 669.3058467725004\n",
      "model saved to ../results/AVD/AVD_Home_011_1_traj1/model_best.pth\n",
      "16\n",
      "AVD_Home_011_1_traj1, ate: 664.0589804838753\n",
      "[8/3000], training loss: 0.1716\n",
      "model saved to ../results/AVD/AVD_Home_011_1_traj1/model_best.pth\n",
      "16\n",
      "AVD_Home_011_1_traj1, ate: 598.1475016263506\n",
      "model saved to ../results/AVD/AVD_Home_011_1_traj1/model_best.pth\n",
      "16\n",
      "AVD_Home_011_1_traj1, ate: 585.477783628735\n",
      "[10/3000], training loss: 0.1448\n",
      "model saved to ../results/AVD/AVD_Home_011_1_traj1/model_best.pth\n",
      "16\n",
      "AVD_Home_011_1_traj1, ate: 574.4172819806827\n",
      "model saved to ../results/AVD/AVD_Home_011_1_traj1/model_best.pth\n",
      "16\n",
      "AVD_Home_011_1_traj1, ate: 562.8408079837333\n",
      "[12/3000], training loss: 0.1401\n",
      "model saved to ../results/AVD/AVD_Home_011_1_traj1/model_best.pth\n",
      "16\n",
      "AVD_Home_011_1_traj1, ate: 585.8139272393568\n",
      "model saved to ../results/AVD/AVD_Home_011_1_traj1/model_best.pth\n",
      "16\n",
      "AVD_Home_011_1_traj1, ate: 599.663310283875\n",
      "[14/3000], training loss: 0.1377\n",
      "[16/3000], training loss: 0.1383\n",
      "[18/3000], training loss: 0.1316\n",
      "model saved to ../results/AVD/AVD_Home_011_1_traj1/model_best.pth\n",
      "16\n",
      "AVD_Home_011_1_traj1, ate: 562.5396134881215\n",
      "model saved to ../results/AVD/AVD_Home_011_1_traj1/model_best.pth\n",
      "16\n",
      "AVD_Home_011_1_traj1, ate: 556.1955185711269\n",
      "[20/3000], training loss: 0.1355\n",
      "model saved to ../results/AVD/AVD_Home_011_1_traj1/model_best.pth\n",
      "16\n",
      "AVD_Home_011_1_traj1, ate: 570.4534623111088\n",
      "[22/3000], training loss: 0.1362\n",
      "[24/3000], training loss: 0.1261\n",
      "[26/3000], training loss: 0.1211\n",
      "model saved to ../results/AVD/AVD_Home_011_1_traj1/model_best.pth\n",
      "16\n",
      "AVD_Home_011_1_traj1, ate: 650.4938969942142\n",
      "model saved to ../results/AVD/AVD_Home_011_1_traj1/model_best.pth\n",
      "16\n",
      "AVD_Home_011_1_traj1, ate: 648.6375711212744\n",
      "[28/3000], training loss: 0.1272\n",
      "[30/3000], training loss: 0.1219\n",
      "[32/3000], training loss: 0.1269\n",
      "model saved to ../results/AVD/AVD_Home_011_1_traj1/model_best.pth\n",
      "16\n",
      "AVD_Home_011_1_traj1, ate: 618.4940427578314\n",
      "^C\n",
      "Traceback (most recent call last):\n",
      "  File \"train_AVD.py\", line 117, in <module>\n",
      "    loss = model(latent_inputs,obs_batch,valid_pt)\n",
      "  File \"/home/mmvc/.conda/envs/ys/lib/python3.6/site-packages/torch/nn/modules/module.py\", line 477, in __call__\n",
      "    result = self.forward(*input, **kwargs)\n",
      "  File \"../models/deepmapping.py\", line 120, in forward\n",
      "    self.occp_prob = self.occup_net(inputs)\n",
      "  File \"/home/mmvc/.conda/envs/ys/lib/python3.6/site-packages/torch/nn/modules/module.py\", line 477, in __call__\n",
      "    result = self.forward(*input, **kwargs)\n",
      "  File \"../models/networks.py\", line 36, in forward\n",
      "    return self.mlp.forward(x)\n",
      "  File \"/home/mmvc/.conda/envs/ys/lib/python3.6/site-packages/torch/nn/modules/container.py\", line 91, in forward\n",
      "    input = module(input)\n",
      "  File \"/home/mmvc/.conda/envs/ys/lib/python3.6/site-packages/torch/nn/modules/module.py\", line 477, in __call__\n",
      "    result = self.forward(*input, **kwargs)\n",
      "  File \"/home/mmvc/.conda/envs/ys/lib/python3.6/site-packages/torch/nn/modules/activation.py\", line 46, in forward\n",
      "    return F.threshold(input, self.threshold, self.value, self.inplace)\n",
      "  File \"/home/mmvc/.conda/envs/ys/lib/python3.6/site-packages/torch/nn/functional.py\", line 625, in threshold\n",
      "    return torch._C._nn.threshold(input, threshold, value)\n",
      "KeyboardInterrupt\n"
     ]
    }
   ],
   "source": [
    "!./run_train_AVD.sh"
   ]
  },
  {
   "cell_type": "code",
   "execution_count": 17,
   "metadata": {},
   "outputs": [],
   "source": [
    "import torch"
   ]
  },
  {
   "cell_type": "code",
   "execution_count": null,
   "metadata": {},
   "outputs": [],
   "source": []
  }
 ],
 "metadata": {
  "kernelspec": {
   "display_name": "Python 3",
   "language": "python",
   "name": "python3"
  },
  "language_info": {
   "codemirror_mode": {
    "name": "ipython",
    "version": 3
   },
   "file_extension": ".py",
   "mimetype": "text/x-python",
   "name": "python",
   "nbconvert_exporter": "python",
   "pygments_lexer": "ipython3",
   "version": "3.6.9"
  }
 },
 "nbformat": 4,
 "nbformat_minor": 2
}
